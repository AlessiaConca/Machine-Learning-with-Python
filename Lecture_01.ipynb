{
  "nbformat": 4,
  "nbformat_minor": 0,
  "metadata": {
    "colab": {
      "provenance": [],
      "collapsed_sections": [
        "WsG9J175fLYe",
        "Sq7y1qLvg9a0"
      ]
    },
    "kernelspec": {
      "name": "python3",
      "display_name": "Python 3"
    },
    "language_info": {
      "name": "python"
    }
  },
  "cells": [
    {
      "cell_type": "markdown",
      "source": [
        "# Python"
      ],
      "metadata": {
        "id": "_IyNYmYJcS1J"
      }
    },
    {
      "cell_type": "markdown",
      "source": [
        "## Variables"
      ],
      "metadata": {
        "id": "UA5jExpbcVUi"
      }
    },
    {
      "cell_type": "code",
      "execution_count": 8,
      "metadata": {
        "colab": {
          "base_uri": "https://localhost:8080/"
        },
        "id": "plFlA0jladR7",
        "outputId": "3ba6f354-fbf8-4df3-e9fb-5f8fbd3c6e0d"
      },
      "outputs": [
        {
          "output_type": "stream",
          "name": "stdout",
          "text": [
            "The BMI is: 34.686090877558094\n"
          ]
        }
      ],
      "source": [
        "kg = 120\n",
        "height = 1.86\n",
        "#kg, height = 120, 1.86\n",
        "bmi = kg/(height**2)\n",
        "message = \"The BMI is:\"\n",
        "print(message, bmi)"
      ]
    },
    {
      "cell_type": "code",
      "source": [
        "type(message)"
      ],
      "metadata": {
        "colab": {
          "base_uri": "https://localhost:8080/"
        },
        "id": "jeIBUstodhoI",
        "outputId": "5ef69de3-dbf2-4377-b8b3-8c0775ad5345"
      },
      "execution_count": 9,
      "outputs": [
        {
          "output_type": "execute_result",
          "data": {
            "text/plain": [
              "str"
            ]
          },
          "metadata": {},
          "execution_count": 9
        }
      ]
    },
    {
      "cell_type": "markdown",
      "source": [
        "## Comments and variable names"
      ],
      "metadata": {
        "id": "vuNvQIIGd8uZ"
      }
    },
    {
      "cell_type": "code",
      "source": [
        "# This is a program that caculates the BMI\n",
        "# It's tested!\n",
        "\n",
        "kg = 120\n",
        "height = 1.86 # in meters\n",
        "bmi = kg/(height**2)\n",
        "message = \"The BMI is:\"\n",
        "print(message, bmi)"
      ],
      "metadata": {
        "id": "-mGElldyeAh_"
      },
      "execution_count": null,
      "outputs": []
    },
    {
      "cell_type": "code",
      "source": [
        "p = 100\n",
        "p2 = 120\n",
        "\n",
        "# better (but it's js style)\n",
        "priceInEuros = 100\n",
        "priceInUSD = 120\n",
        "\n",
        "# best\n",
        "price_in_euros = 100\n",
        "price_in_usd = 120\n",
        "\n"
      ],
      "metadata": {
        "id": "gvI5ny1kegKn"
      },
      "execution_count": null,
      "outputs": []
    },
    {
      "cell_type": "markdown",
      "source": [
        "## Arithmetic operators"
      ],
      "metadata": {
        "id": "WsG9J175fLYe"
      }
    },
    {
      "cell_type": "code",
      "source": [
        "print(20 * 3)\n",
        "print(20 / 3)\n",
        "print(20 + 3)\n",
        "print(20 - 3)\n",
        "print(20 // 3)\n",
        "print(20 ** 3)"
      ],
      "metadata": {
        "colab": {
          "base_uri": "https://localhost:8080/"
        },
        "id": "TMlLcWrVfNrh",
        "outputId": "38380730-3e60-41c4-ad0c-dba8af2333f5"
      },
      "execution_count": 10,
      "outputs": [
        {
          "output_type": "stream",
          "name": "stdout",
          "text": [
            "60\n",
            "6.666666666666667\n",
            "23\n",
            "17\n",
            "6\n",
            "8000\n"
          ]
        }
      ]
    },
    {
      "cell_type": "markdown",
      "source": [
        "## Logical operators"
      ],
      "metadata": {
        "id": "4KRugW8Tftb2"
      }
    },
    {
      "cell_type": "code",
      "source": [
        "handsome = True # --> >= 1\n",
        "rich = False # --> 0\n",
        "\n",
        "print(handsome and rich) # --> False"
      ],
      "metadata": {
        "colab": {
          "base_uri": "https://localhost:8080/"
        },
        "id": "VCJ2xfs-fxgP",
        "outputId": "fc1beb87-c32e-45ed-bc4f-13216064d2e8"
      },
      "execution_count": 13,
      "outputs": [
        {
          "output_type": "stream",
          "name": "stdout",
          "text": [
            "False\n",
            "0\n"
          ]
        }
      ]
    },
    {
      "cell_type": "code",
      "source": [
        "handsome = 1\n",
        "rich = 0\n",
        "\n",
        "print(handsome and rich) # --> 0"
      ],
      "metadata": {
        "id": "k4kjjzQ5gP8H"
      },
      "execution_count": null,
      "outputs": []
    },
    {
      "cell_type": "code",
      "source": [
        "print(\"and:\", True and False)\n",
        "print(\"and:\", True and True)\n",
        "print(\"and:\", False and False)\n"
      ],
      "metadata": {
        "colab": {
          "base_uri": "https://localhost:8080/"
        },
        "id": "TVIpn0ZZgVlV",
        "outputId": "2b3f72bd-7f3d-4e2f-f529-08eb8dd72cba"
      },
      "execution_count": 20,
      "outputs": [
        {
          "output_type": "stream",
          "name": "stdout",
          "text": [
            "and: False\n",
            "and: True\n",
            "and: False\n"
          ]
        }
      ]
    },
    {
      "cell_type": "code",
      "source": [
        "print(\"or:\", True or False)\n",
        "print(\"or:\", True or True)\n",
        "print(\"or:\", False or False)"
      ],
      "metadata": {
        "colab": {
          "base_uri": "https://localhost:8080/"
        },
        "id": "4LBmbnbggu-t",
        "outputId": "914b21f3-b3c5-46ac-f6f7-2f5bbf969bc6"
      },
      "execution_count": 21,
      "outputs": [
        {
          "output_type": "stream",
          "name": "stdout",
          "text": [
            "or: True\n",
            "or: True\n",
            "or: False\n"
          ]
        }
      ]
    },
    {
      "cell_type": "code",
      "source": [
        "print(\"not:\", not False)\n",
        "print(\"not:\", not True)"
      ],
      "metadata": {
        "colab": {
          "base_uri": "https://localhost:8080/"
        },
        "id": "ItmQOPI9gwDk",
        "outputId": "d02c7594-4221-49e2-9a52-c6f4aef2e3c6"
      },
      "execution_count": 22,
      "outputs": [
        {
          "output_type": "stream",
          "name": "stdout",
          "text": [
            "not: True\n",
            "not: False\n"
          ]
        }
      ]
    },
    {
      "cell_type": "code",
      "source": [
        "int(False)"
      ],
      "metadata": {
        "colab": {
          "base_uri": "https://localhost:8080/"
        },
        "id": "tXDrQXNag0sH",
        "outputId": "b839c6a6-5f97-4739-8e4c-b7b80736e061"
      },
      "execution_count": 23,
      "outputs": [
        {
          "output_type": "execute_result",
          "data": {
            "text/plain": [
              "0"
            ]
          },
          "metadata": {},
          "execution_count": 23
        }
      ]
    },
    {
      "cell_type": "code",
      "source": [
        "int(True)"
      ],
      "metadata": {
        "colab": {
          "base_uri": "https://localhost:8080/"
        },
        "id": "o6QHT7VOg2jf",
        "outputId": "ea51ecfd-2dc0-4202-9f78-e61ddbdebbf9"
      },
      "execution_count": 24,
      "outputs": [
        {
          "output_type": "execute_result",
          "data": {
            "text/plain": [
              "1"
            ]
          },
          "metadata": {},
          "execution_count": 24
        }
      ]
    },
    {
      "cell_type": "markdown",
      "source": [
        "## Conditionals: if... else... elif"
      ],
      "metadata": {
        "id": "Sq7y1qLvg9a0"
      }
    },
    {
      "cell_type": "code",
      "source": [
        "salary = 5000\n",
        "\n",
        "# >, <, >=, <=, ==, !=\n",
        "if salary >= 3000:\n",
        "    print(\"rich!\")\n",
        "else:\n",
        "    print(\"poor!\")\n",
        "\n",
        "print(\"end.\")"
      ],
      "metadata": {
        "colab": {
          "base_uri": "https://localhost:8080/"
        },
        "id": "jXSgu3ljhD_V",
        "outputId": "6159dfb2-00db-4e7b-99b4-3269c240f17b"
      },
      "execution_count": 31,
      "outputs": [
        {
          "output_type": "stream",
          "name": "stdout",
          "text": [
            "rich!\n",
            "end.\n"
          ]
        }
      ]
    },
    {
      "cell_type": "code",
      "source": [
        "salary = 2000\n",
        "handsome = False\n",
        "\n",
        "# >, <, >=, <=, ==, !=\n",
        "if salary >= 3000 and handsome:\n",
        "    print(\"rich and handsome!\")\n",
        "else:\n",
        "    if salary > 3000 and not handsome:\n",
        "        print(\"rich and ugly!\")\n",
        "    else:\n",
        "        print(\"poor!\")\n",
        "\n",
        "print(\"end.\")"
      ],
      "metadata": {
        "colab": {
          "base_uri": "https://localhost:8080/"
        },
        "id": "oWUOcFXch5Ec",
        "outputId": "08f62bbc-755e-4d2c-dd3f-f250954df63b"
      },
      "execution_count": 37,
      "outputs": [
        {
          "output_type": "stream",
          "name": "stdout",
          "text": [
            "poor!\n",
            "end.\n"
          ]
        }
      ]
    },
    {
      "cell_type": "code",
      "source": [
        "# this is the same as above\n",
        "salary = 2000\n",
        "handsome = False\n",
        "\n",
        "# >, <, >=, <=, ==, !=\n",
        "if salary >= 3000 and handsome:\n",
        "    print(\"rich and handsome!\")\n",
        "elif salary > 3000 and not handsome:\n",
        "    print(\"rich and ugly!\")\n",
        "else:\n",
        "    print(\"poor!\")\n",
        "\n",
        "print(\"end.\")"
      ],
      "metadata": {
        "colab": {
          "base_uri": "https://localhost:8080/"
        },
        "id": "EJIgv91zijFF",
        "outputId": "e5b1cb62-402f-43d5-f109-8c4af558d4cd"
      },
      "execution_count": 38,
      "outputs": [
        {
          "output_type": "stream",
          "name": "stdout",
          "text": [
            "poor!\n",
            "end.\n"
          ]
        }
      ]
    },
    {
      "cell_type": "markdown",
      "source": [
        "## Exercise"
      ],
      "metadata": {
        "id": "X182-Ke6i26L"
      }
    },
    {
      "cell_type": "code",
      "source": [
        "kg = 102\n",
        "height = 1.86 # in meters\n",
        "bmi = kg/(height**2)\n",
        "\n",
        "# print \"Underweight\", \"Normal\", \"Overweight\", \"Obese\" accoding to the HMO directives\n",
        "\n",
        "# if bmi <= 18.49:\n",
        "#     print(\"Underweight\")\n",
        "# elif bmi > 18.5 and bmi <= 24.9:\n",
        "#     print(\"Normal\")\n",
        "# elif bmi > 24.9 and bmi <= 29.99:\n",
        "#     print(\"Overweight\")\n",
        "# elif bmi > 29.99:\n",
        "#     print(\"Obese\")\n",
        "\n",
        "\n",
        "if bmi <= 18.49:\n",
        "    print(\"Underweight\")\n",
        "elif bmi <= 24.9:\n",
        "    print(\"Normal\")\n",
        "elif bmi <= 29.99:\n",
        "    print(\"Overweight\")\n",
        "else:\n",
        "    print(\"Obese\")\n"
      ],
      "metadata": {
        "colab": {
          "base_uri": "https://localhost:8080/"
        },
        "id": "NxmNnl1Gi2lT",
        "outputId": "4f88a14a-f6d3-452e-8261-67e6dcce802a"
      },
      "execution_count": 44,
      "outputs": [
        {
          "output_type": "stream",
          "name": "stdout",
          "text": [
            "Overweight\n"
          ]
        }
      ]
    },
    {
      "cell_type": "markdown",
      "source": [
        "## Data structures"
      ],
      "metadata": {
        "id": "rZF0UCJ8lvJh"
      }
    },
    {
      "cell_type": "code",
      "source": [
        "# tuple\n",
        "person = (\"Carlo\", 100, 1.8)\n",
        "print(person[0], person[1], person[2])"
      ],
      "metadata": {
        "colab": {
          "base_uri": "https://localhost:8080/"
        },
        "id": "_qKZS5tTtTrk",
        "outputId": "54af923c-b05e-40b3-ef2e-685e739dc441"
      },
      "execution_count": 45,
      "outputs": [
        {
          "output_type": "stream",
          "name": "stdout",
          "text": [
            "Carlo 100 1.8\n"
          ]
        }
      ]
    },
    {
      "cell_type": "code",
      "source": [
        "person[1] = 120\n",
        "print(person)"
      ],
      "metadata": {
        "id": "jS7p_2Gltmct"
      },
      "execution_count": null,
      "outputs": []
    },
    {
      "cell_type": "code",
      "source": [
        "# list or array\n",
        "person = [\"Carlo\", 100, 1.8]\n",
        "print(person[0], person[1], person[2])"
      ],
      "metadata": {
        "colab": {
          "base_uri": "https://localhost:8080/"
        },
        "id": "73_DNiPItyD0",
        "outputId": "c3927cf4-af5d-4f90-ea44-a8319d170851"
      },
      "execution_count": 53,
      "outputs": [
        {
          "output_type": "stream",
          "name": "stdout",
          "text": [
            "Carlo 100 1.8\n"
          ]
        }
      ]
    },
    {
      "cell_type": "code",
      "source": [
        "person[1] = 120\n",
        "print(person)"
      ],
      "metadata": {
        "colab": {
          "base_uri": "https://localhost:8080/"
        },
        "id": "mXScYoMbt5Ml",
        "outputId": "84d81bd9-5eae-41ef-dd57-a0f2787ec244"
      },
      "execution_count": 54,
      "outputs": [
        {
          "output_type": "stream",
          "name": "stdout",
          "text": [
            "['Carlo', 120, 1.8]\n"
          ]
        }
      ]
    },
    {
      "cell_type": "code",
      "source": [
        "person.append(\"Venezia\")\n",
        "person"
      ],
      "metadata": {
        "colab": {
          "base_uri": "https://localhost:8080/"
        },
        "id": "Spwj614Ut7V9",
        "outputId": "e7917bb7-b90e-426e-be9f-03d060a3be21"
      },
      "execution_count": 55,
      "outputs": [
        {
          "output_type": "execute_result",
          "data": {
            "text/plain": [
              "['Carlo', 120, 1.8, 'Venezia']"
            ]
          },
          "metadata": {},
          "execution_count": 55
        }
      ]
    },
    {
      "cell_type": "code",
      "source": [
        "print(person, person[1:2], person[1:], person[-1], person[-3:-1])"
      ],
      "metadata": {
        "colab": {
          "base_uri": "https://localhost:8080/"
        },
        "id": "qpQiK6m1uRfL",
        "outputId": "41509998-97f8-4857-fd32-2527d323945b"
      },
      "execution_count": 61,
      "outputs": [
        {
          "output_type": "stream",
          "name": "stdout",
          "text": [
            "['Carlo', 120, 1.8, 'Venezia'] [120] [120, 1.8, 'Venezia'] Venezia [120, 1.8]\n"
          ]
        }
      ]
    },
    {
      "cell_type": "code",
      "source": [
        "# string"
      ],
      "metadata": {
        "id": "Xmm6u0R8xo5x"
      },
      "execution_count": null,
      "outputs": []
    },
    {
      "cell_type": "code",
      "source": [
        "song = \"volare, cantare, oooohhh\"\n",
        "print(song[2:6])\n",
        "print(song[-6:-1])"
      ],
      "metadata": {
        "colab": {
          "base_uri": "https://localhost:8080/"
        },
        "id": "z36ugqVVxrpa",
        "outputId": "af7b8144-e527-46f9-be7c-669024eb85e5"
      },
      "execution_count": 86,
      "outputs": [
        {
          "output_type": "stream",
          "name": "stdout",
          "text": [
            "lare\n",
            "ooohh\n"
          ]
        }
      ]
    },
    {
      "cell_type": "code",
      "source": [
        "# dictionary\n",
        "person = {\"name\": \"Carlo\", \"weight\": 100, \"height\": 1.8}"
      ],
      "metadata": {
        "id": "bB3t142Lur4l"
      },
      "execution_count": 64,
      "outputs": []
    },
    {
      "cell_type": "code",
      "source": [
        "person[\"name\"]"
      ],
      "metadata": {
        "colab": {
          "base_uri": "https://localhost:8080/",
          "height": 35
        },
        "id": "qkynCRV8u8BD",
        "outputId": "7e78d330-e7d5-4371-ba52-1aa2806d8a89"
      },
      "execution_count": 65,
      "outputs": [
        {
          "output_type": "execute_result",
          "data": {
            "text/plain": [
              "'Carlo'"
            ],
            "application/vnd.google.colaboratory.intrinsic+json": {
              "type": "string"
            }
          },
          "metadata": {},
          "execution_count": 65
        }
      ]
    },
    {
      "cell_type": "code",
      "source": [
        "person[\"city\"]"
      ],
      "metadata": {
        "id": "CLZZmnVou9or"
      },
      "execution_count": null,
      "outputs": []
    },
    {
      "cell_type": "code",
      "source": [
        "print(\"city\" in person, \"name\" in person)"
      ],
      "metadata": {
        "colab": {
          "base_uri": "https://localhost:8080/"
        },
        "id": "i-TVUfavvBhD",
        "outputId": "4ab37cb7-1333-4473-c88a-414532aa0948"
      },
      "execution_count": 67,
      "outputs": [
        {
          "output_type": "stream",
          "name": "stdout",
          "text": [
            "False True\n"
          ]
        }
      ]
    },
    {
      "cell_type": "code",
      "source": [
        "person.get(\"city\", \"no city define\")"
      ],
      "metadata": {
        "colab": {
          "base_uri": "https://localhost:8080/",
          "height": 35
        },
        "id": "RUuBz9tWvNVu",
        "outputId": "4c6f5334-defa-4ab7-9358-d2435297bd6d"
      },
      "execution_count": 68,
      "outputs": [
        {
          "output_type": "execute_result",
          "data": {
            "text/plain": [
              "'no city define'"
            ],
            "application/vnd.google.colaboratory.intrinsic+json": {
              "type": "string"
            }
          },
          "metadata": {},
          "execution_count": 68
        }
      ]
    },
    {
      "cell_type": "code",
      "source": [
        "print(person.get(\"city\"))"
      ],
      "metadata": {
        "colab": {
          "base_uri": "https://localhost:8080/"
        },
        "id": "UayT3SzsvZGb",
        "outputId": "48ad0439-2b83-4aaa-9d73-736cec6b7125"
      },
      "execution_count": 70,
      "outputs": [
        {
          "output_type": "stream",
          "name": "stdout",
          "text": [
            "None\n"
          ]
        }
      ]
    },
    {
      "cell_type": "code",
      "source": [
        "person[\"city\"] = \"Venezia\""
      ],
      "metadata": {
        "id": "4dLSqBgsvjcU"
      },
      "execution_count": 71,
      "outputs": []
    },
    {
      "cell_type": "code",
      "source": [
        "person"
      ],
      "metadata": {
        "colab": {
          "base_uri": "https://localhost:8080/"
        },
        "id": "7iV9et2PvlzL",
        "outputId": "3e46ac06-c468-4968-d802-99663651f283"
      },
      "execution_count": 72,
      "outputs": [
        {
          "output_type": "execute_result",
          "data": {
            "text/plain": [
              "{'name': 'Carlo', 'weight': 100, 'height': 1.8, 'city': 'Venezia'}"
            ]
          },
          "metadata": {},
          "execution_count": 72
        }
      ]
    },
    {
      "cell_type": "code",
      "source": [
        "person.keys()"
      ],
      "metadata": {
        "colab": {
          "base_uri": "https://localhost:8080/"
        },
        "id": "39G4NkEyvpDD",
        "outputId": "7c99f686-9382-4fd2-e911-bb2e86eb5a41"
      },
      "execution_count": 73,
      "outputs": [
        {
          "output_type": "execute_result",
          "data": {
            "text/plain": [
              "dict_keys(['name', 'weight', 'height', 'city'])"
            ]
          },
          "metadata": {},
          "execution_count": 73
        }
      ]
    },
    {
      "cell_type": "code",
      "source": [
        "person.values()"
      ],
      "metadata": {
        "colab": {
          "base_uri": "https://localhost:8080/"
        },
        "id": "BwP_UPzvvsXz",
        "outputId": "033b71b2-672e-40d6-f120-b2d533b94e3c"
      },
      "execution_count": 74,
      "outputs": [
        {
          "output_type": "execute_result",
          "data": {
            "text/plain": [
              "dict_values(['Carlo', 100, 1.8, 'Venezia'])"
            ]
          },
          "metadata": {},
          "execution_count": 74
        }
      ]
    },
    {
      "cell_type": "markdown",
      "source": [
        "## Loops"
      ],
      "metadata": {
        "id": "Z6Di5KhGv26j"
      }
    },
    {
      "cell_type": "code",
      "source": [
        "kgs = [70, 80, 90, 100, 110, 120]\n",
        "height = 1.8 # in meters\n",
        "\n",
        "for i, k in enumerate(kgs):\n",
        "    bmi = k / (height**2)\n",
        "    print(i, k, height, bmi)"
      ],
      "metadata": {
        "colab": {
          "base_uri": "https://localhost:8080/"
        },
        "id": "TJXsUgsKv5Gt",
        "outputId": "626e3288-a394-46b1-f6be-51ddf2f77054"
      },
      "execution_count": 81,
      "outputs": [
        {
          "output_type": "stream",
          "name": "stdout",
          "text": [
            "0 70 1.8 21.604938271604937\n",
            "1 80 1.8 24.691358024691358\n",
            "2 90 1.8 27.777777777777775\n",
            "3 100 1.8 30.864197530864196\n",
            "4 110 1.8 33.95061728395061\n",
            "5 120 1.8 37.03703703703704\n"
          ]
        }
      ]
    },
    {
      "cell_type": "code",
      "source": [
        "for i in range(6):\n",
        "    print(i, kgs[i])\n",
        "    if i > 4:\n",
        "        # continue # start the next iteration\n",
        "        break # get out of the loop"
      ],
      "metadata": {
        "colab": {
          "base_uri": "https://localhost:8080/"
        },
        "id": "4oCcIyQXwdhb",
        "outputId": "3bbe8dd8-6979-4e87-83fa-fc7ad7dce44d"
      },
      "execution_count": 80,
      "outputs": [
        {
          "output_type": "stream",
          "name": "stdout",
          "text": [
            "0 70\n",
            "1 80\n",
            "2 90\n",
            "3 100\n",
            "4 110\n",
            "5 120\n"
          ]
        }
      ]
    },
    {
      "cell_type": "code",
      "source": [
        "kg = 100\n",
        "while kg > 0:\n",
        "    print(kg)\n",
        "    kg -= 10 # kg = kg - 10\n",
        "    # break, continue"
      ],
      "metadata": {
        "colab": {
          "base_uri": "https://localhost:8080/"
        },
        "id": "zc8nMl8txTiy",
        "outputId": "ebac7bd0-eb6f-45e3-c2ee-8ec2109af440"
      },
      "execution_count": 82,
      "outputs": [
        {
          "output_type": "stream",
          "name": "stdout",
          "text": [
            "100\n",
            "90\n",
            "80\n",
            "70\n",
            "60\n",
            "50\n",
            "40\n",
            "30\n",
            "20\n",
            "10\n"
          ]
        }
      ]
    },
    {
      "cell_type": "markdown",
      "source": [
        "## Exercise 2"
      ],
      "metadata": {
        "id": "HUFaH3OHyEoh"
      }
    },
    {
      "cell_type": "code",
      "source": [
        "# people is an array of tuples (person) or dictionaries\n",
        "# people has 5 tuples of information: name, weight, height\n",
        "# define people\n",
        "# calculate BMI in a loop printing \"The BMI of <name> is <BMI>\"\n",
        "\n",
        "people = [(\"Luca\", 75, 1.80), (\"Carla\", 60, 1.67), (\"Marco\", 77, 1.78), (\"Maria\", 71, 1.70), (\"Carla\", 50, 1.50)]\n",
        "\n",
        "for person in people:\n",
        "    bmi = person[1]/(person[2]**2)\n",
        "    print(\"The BMI of\", person[0], \"is\", bmi)\n",
        "\n",
        "# another version, different people\n",
        "# people = [(\"Carlo\", 70, 1.8), (\"Mario\", 85, 1.9), (\"Stefania\", 60, 1.6), (\"Concetta\", 55, 1,65), (\"Antonio\", 68, 1.77)]\n",
        "# for p in people:\n",
        "#     print(\"The BMI of \", p[0], \"is \", p[1]/(p[2]**2))"
      ],
      "metadata": {
        "colab": {
          "base_uri": "https://localhost:8080/"
        },
        "id": "PRDeTImmyD0A",
        "outputId": "c34196d9-d58c-4bf9-cc73-a6ae8104f2ba"
      },
      "execution_count": 88,
      "outputs": [
        {
          "output_type": "stream",
          "name": "stdout",
          "text": [
            "The BMI of Luca is 23.148148148148145\n",
            "The BMI of Carla is 21.513858510523864\n",
            "The BMI of Marco is 24.302487059714682\n",
            "The BMI of Maria is 24.56747404844291\n",
            "The BMI of Carla is 22.22222222222222\n"
          ]
        }
      ]
    },
    {
      "cell_type": "code",
      "source": [
        "# and using an array of dictionaries...\n",
        "people = [\n",
        "    {\"name\": \"Luca\",  \"weight\": 75, \"height\": 1.80},\n",
        "    {\"name\": \"Carla\", \"weight\": 60, \"height\": 1.67},\n",
        "    {\"name\": \"Marco\", \"weight\": 77, \"height\": 1.78},\n",
        "    {\"name\": \"Maria\", \"weight\": 71, \"height\": 1.70},\n",
        "    {\"name\": \"Carla\", \"weight\": 50, \"height\": 1.50}\n",
        "]\n",
        "\n",
        "for person in people:\n",
        "    bmi = person[\"weight\"]/(person[\"height\"]**2)\n",
        "    print(\"The BMI of\", person[\"name\"], \"is\", bmi)"
      ],
      "metadata": {
        "colab": {
          "base_uri": "https://localhost:8080/"
        },
        "id": "Nifytw6j0Vf3",
        "outputId": "cb7ed493-bb2e-4fb2-eda5-fdaa7b24d30b"
      },
      "execution_count": 90,
      "outputs": [
        {
          "output_type": "stream",
          "name": "stdout",
          "text": [
            "The BMI of Luca is 23.148148148148145\n",
            "The BMI of Carla is 21.513858510523864\n",
            "The BMI of Marco is 24.302487059714682\n",
            "The BMI of Maria is 24.56747404844291\n",
            "The BMI of Carla is 22.22222222222222\n"
          ]
        }
      ]
    },
    {
      "cell_type": "markdown",
      "source": [
        "# Function"
      ],
      "metadata": {
        "id": "tYrZGX-E1_Lw"
      }
    },
    {
      "cell_type": "code",
      "source": [
        "def bmi(height=1.7, weight=100):\n",
        "    b = weight/height**2\n",
        "    if b <= 18.49:\n",
        "        s = \"Underweight\"\n",
        "    elif b <= 24.9:\n",
        "        s = \"Normal\"\n",
        "    elif b <= 29.99:\n",
        "        s = \"Overweight\"\n",
        "    else:\n",
        "        s = \"Obese\"\n",
        "\n",
        "    return (b, s)\n",
        "\n",
        "\n",
        "the_bmi, the_status = bmi(height=1.75, weight=100)\n",
        "print(\"the BMI is\", the_bmi, \"and the status is\", the_status)"
      ],
      "metadata": {
        "colab": {
          "base_uri": "https://localhost:8080/"
        },
        "id": "sYhmubfH2A2u",
        "outputId": "0b8236c9-2313-4766-ace4-0f959beee61c"
      },
      "execution_count": 106,
      "outputs": [
        {
          "output_type": "stream",
          "name": "stdout",
          "text": [
            "the BMI is 32.6530612244898 and the status is Obese\n"
          ]
        }
      ]
    },
    {
      "cell_type": "code",
      "source": [
        "def bmi_new(height=1.7, weight=100):\n",
        "    b = weight/height**2\n",
        "    if b <= 20:\n",
        "        s = \"Underweight\"\n",
        "    elif b <= 25:\n",
        "        s = \"Normal\"\n",
        "    else:\n",
        "        s = \"Obese\"\n",
        "\n",
        "    return (b, s)"
      ],
      "metadata": {
        "id": "goRYtxhT5JQ1"
      },
      "execution_count": 108,
      "outputs": []
    },
    {
      "cell_type": "code",
      "source": [
        "def test_bmi(bmi_function, values):\n",
        "    for h, w in values:\n",
        "        print(bmi_function(height=h, weight= w))\n",
        "\n",
        "test_bmi(bmi, [(1.70, 100), (1.80, 110)])\n",
        "test_bmi(bmi_new, [(1.70, 100), (1.80, 110)])"
      ],
      "metadata": {
        "colab": {
          "base_uri": "https://localhost:8080/"
        },
        "id": "mlh1Rbbv5Q_V",
        "outputId": "353acf89-d38b-4e3a-c22c-f9feccba5c6a"
      },
      "execution_count": 112,
      "outputs": [
        {
          "output_type": "stream",
          "name": "stdout",
          "text": [
            "(34.602076124567475, 'Obese')\n",
            "(33.95061728395061, 'Obese')\n",
            "(34.602076124567475, 'Obese')\n",
            "(33.95061728395061, 'Obese')\n"
          ]
        }
      ]
    },
    {
      "cell_type": "markdown",
      "source": [
        "# Files"
      ],
      "metadata": {
        "id": "rFF6r0gi6KMT"
      }
    },
    {
      "cell_type": "code",
      "source": [
        "# https://www.kaggle.com/datasets/ashydv/housing-dataset\n",
        "f = open(\"Housing.csv\", \"rt\") # \"wt\", \"rb\", \"wb\"\n",
        "\n",
        "sum_price = 0\n",
        "count_price = 0\n",
        "\n",
        "for line_number, line in enumerate(f):\n",
        "    if line_number > 0:\n",
        "        line = line.strip()\n",
        "        values = line.split(\",\")\n",
        "\n",
        "        furnishedstatus = values[12]\n",
        "        if furnishedstatus == \"furnished\":\n",
        "            sum_price += int(values[0])\n",
        "            count_price = count_price + 1\n",
        "\n",
        "print(sum_price / count_price)\n",
        "\n",
        "f.close()"
      ],
      "metadata": {
        "colab": {
          "base_uri": "https://localhost:8080/"
        },
        "id": "At2f9s3P6Jzs",
        "outputId": "eec49abe-fabc-4434-de1c-d5e0ebbd3841"
      },
      "execution_count": 127,
      "outputs": [
        {
          "output_type": "stream",
          "name": "stdout",
          "text": [
            "5495696.0\n"
          ]
        }
      ]
    }
  ]
}